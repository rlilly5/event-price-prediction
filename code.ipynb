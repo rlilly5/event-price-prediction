{
 "cells": [
  {
   "cell_type": "code",
   "execution_count": 128,
   "metadata": {},
   "outputs": [],
   "source": [
    "# import statemets\n",
    "import pandas as pd\n",
    "from sklearn.model_selection import train_test_split\n",
    "from sklearn.preprocessing import LabelEncoder\n",
    "from sklearn.ensemble import RandomForestRegressor\n",
    "from sklearn.metrics import mean_squared_error, r2_score\n",
    "import matplotlib.pyplot as plt"
   ]
  },
  {
   "cell_type": "code",
   "execution_count": 129,
   "metadata": {},
   "outputs": [
    {
     "name": "stdout",
     "output_type": "stream",
     "text": [
      "Features shape: (1260, 25)\n"
     ]
    }
   ],
   "source": [
    "data = pd.read_csv('/Users/kausikamanivannan/DSBA6156/random_forest/ProcessedTicketData.csv')\n",
    "print(f\"Features shape: {data.shape}\")"
   ]
  },
  {
   "cell_type": "code",
   "execution_count": null,
   "metadata": {},
   "outputs": [],
   "source": [
    "# pull unique artists"
   ]
  },
  {
   "cell_type": "code",
   "execution_count": 130,
   "metadata": {},
   "outputs": [
    {
     "name": "stdout",
     "output_type": "stream",
     "text": [
      "0   2016-06-09\n",
      "1   2016-04-23\n",
      "2   2016-06-29\n",
      "3   2016-04-08\n",
      "4   2016-05-04\n",
      "5   2016-03-26\n",
      "6   2016-04-12\n",
      "7   2016-03-23\n",
      "8   2016-04-01\n",
      "9   2016-04-13\n",
      "Name: date, dtype: datetime64[ns]\n"
     ]
    }
   ],
   "source": [
    "# Convert 'date' column to string, take first 10 characters, and convert to datetime\n",
    "data['date'] = data['date'].astype(str).str[:10] \n",
    "data['date'] = pd.to_datetime(data['date']) \n",
    "\n",
    "print(data['date'].head(10))  # first 10 rows of the date column"
   ]
  },
  {
   "cell_type": "code",
   "execution_count": 131,
   "metadata": {},
   "outputs": [
    {
     "name": "stdout",
     "output_type": "stream",
     "text": [
      "Features shape: (1260, 23)\n",
      "        date  artist  venue  min_price  total_postings  total_tickets  city  \\\n",
      "0 2016-06-09     445    111      85.04             106            359     0   \n",
      "1 2016-04-23     130     33      55.99              14             89     0   \n",
      "2 2016-06-29     165    111      46.86             182            780     0   \n",
      "3 2016-04-08     531    182      60.32              13             73     0   \n",
      "4 2016-05-04     406     84      48.37               4             18     0   \n",
      "\n",
      "   state  ticket_vendor  face_value  ...  num_blogs  num_news  num_reviews  \\\n",
      "0      3             18       35.00  ...       9475      2202            7   \n",
      "1      3             18       29.00  ...       8129       962           52   \n",
      "2      3             18       29.95  ...       6062      1776           13   \n",
      "3      3             18       25.00  ...       2083       231          167   \n",
      "4      3             18       16.00  ...       1110       289           14   \n",
      "\n",
      "   discovery  familiarity  hotttnesss  num_years_active  FV_delta  \\\n",
      "0   0.439948     0.770825    0.862321                 8     50.04   \n",
      "1   0.391567     0.749624    0.729409                14     26.99   \n",
      "2   0.427074     0.769929    0.835224                14     16.91   \n",
      "3   0.368564     0.701520    0.619015                34     35.32   \n",
      "4   0.409728     0.616520    0.589147                30     32.37   \n",
      "\n",
      "   maxPrice_FV_delta  FV_delta_log  \n",
      "0            1465.00      3.912823  \n",
      "1              90.00      3.295466  \n",
      "2            1719.05      2.827905  \n",
      "3            1087.00      3.564449  \n",
      "4              54.00      3.477232  \n",
      "\n",
      "[5 rows x 23 columns]\n"
     ]
    }
   ],
   "source": [
    "# Target variable\n",
    "target = 'max_price'\n",
    "\n",
    "# Drop the target column to get only the features\n",
    "features = data.drop(columns=['event_id', 'max_price'])\n",
    "\n",
    "# Dictionary to store encoders for each column\n",
    "encoders = {}\n",
    "\n",
    "# Encode categorical columns\n",
    "for col in ['artist', 'venue', 'city', 'state', 'ticket_vendor']:\n",
    "    if col in features:\n",
    "        encoder = LabelEncoder()\n",
    "        features[col] = encoder.fit_transform(data[col])\n",
    "        encoders[col] = encoder      \n",
    "\n",
    "print(f\"Features shape: {features.shape}\")\n",
    "\n",
    "print(features.head())"
   ]
  },
  {
   "cell_type": "code",
   "execution_count": null,
   "metadata": {},
   "outputs": [
    {
     "name": "stdout",
     "output_type": "stream",
     "text": [
      "Training set size: (1008, 23)\n",
      "Testing set size: (252, 23)\n"
     ]
    }
   ],
   "source": [
    "# Splitting the data in test and train datasets\n",
    "\n",
    "X = features\n",
    "y = data[target]\n",
    "\n",
    "X_train, X_test, y_train, y_test = train_test_split(X, y, test_size=0.2, random_state=42) # 20% train data, 80% test data\n",
    "\n",
    "print(f\"Training set size: {X_train.shape}\")\n",
    "print(f\"Testing set size: {X_test.shape}\")"
   ]
  },
  {
   "cell_type": "code",
   "execution_count": 133,
   "metadata": {},
   "outputs": [],
   "source": [
    "# Extract year, month, day, and day_of_week from the date column for train and test\n",
    "\n",
    "if 'date' in X_train.columns:\n",
    "    X_train['year'] = X_train['date'].dt.year\n",
    "    X_train['month'] = X_train['date'].dt.month\n",
    "    X_train['day'] = X_train['date'].dt.day\n",
    "    X_train['day_of_week'] = X_train['date'].dt.dayofweek\n",
    "    X_train['days_since_epoch'] = (X_train['date'] - pd.Timestamp('1970-01-01')).dt.days\n",
    "    \n",
    "    X_test['year'] = X_test['date'].dt.year\n",
    "    X_test['month'] = X_test['date'].dt.month\n",
    "    X_test['day'] = X_test['date'].dt.day\n",
    "    X_test['day_of_week'] = X_test['date'].dt.dayofweek\n",
    "    X_test['days_since_epoch'] = (X_test['date'] - pd.Timestamp('1970-01-01')).dt.days\n",
    "    \n",
    "    # Drop the original date column\n",
    "    X_train = X_train.drop(columns=['date'])\n",
    "    X_test = X_test.drop(columns=['date'])"
   ]
  },
  {
   "cell_type": "code",
   "execution_count": 134,
   "metadata": {},
   "outputs": [
    {
     "data": {
      "text/html": [
       "<style>#sk-container-id-4 {color: black;}#sk-container-id-4 pre{padding: 0;}#sk-container-id-4 div.sk-toggleable {background-color: white;}#sk-container-id-4 label.sk-toggleable__label {cursor: pointer;display: block;width: 100%;margin-bottom: 0;padding: 0.3em;box-sizing: border-box;text-align: center;}#sk-container-id-4 label.sk-toggleable__label-arrow:before {content: \"▸\";float: left;margin-right: 0.25em;color: #696969;}#sk-container-id-4 label.sk-toggleable__label-arrow:hover:before {color: black;}#sk-container-id-4 div.sk-estimator:hover label.sk-toggleable__label-arrow:before {color: black;}#sk-container-id-4 div.sk-toggleable__content {max-height: 0;max-width: 0;overflow: hidden;text-align: left;background-color: #f0f8ff;}#sk-container-id-4 div.sk-toggleable__content pre {margin: 0.2em;color: black;border-radius: 0.25em;background-color: #f0f8ff;}#sk-container-id-4 input.sk-toggleable__control:checked~div.sk-toggleable__content {max-height: 200px;max-width: 100%;overflow: auto;}#sk-container-id-4 input.sk-toggleable__control:checked~label.sk-toggleable__label-arrow:before {content: \"▾\";}#sk-container-id-4 div.sk-estimator input.sk-toggleable__control:checked~label.sk-toggleable__label {background-color: #d4ebff;}#sk-container-id-4 div.sk-label input.sk-toggleable__control:checked~label.sk-toggleable__label {background-color: #d4ebff;}#sk-container-id-4 input.sk-hidden--visually {border: 0;clip: rect(1px 1px 1px 1px);clip: rect(1px, 1px, 1px, 1px);height: 1px;margin: -1px;overflow: hidden;padding: 0;position: absolute;width: 1px;}#sk-container-id-4 div.sk-estimator {font-family: monospace;background-color: #f0f8ff;border: 1px dotted black;border-radius: 0.25em;box-sizing: border-box;margin-bottom: 0.5em;}#sk-container-id-4 div.sk-estimator:hover {background-color: #d4ebff;}#sk-container-id-4 div.sk-parallel-item::after {content: \"\";width: 100%;border-bottom: 1px solid gray;flex-grow: 1;}#sk-container-id-4 div.sk-label:hover label.sk-toggleable__label {background-color: #d4ebff;}#sk-container-id-4 div.sk-serial::before {content: \"\";position: absolute;border-left: 1px solid gray;box-sizing: border-box;top: 0;bottom: 0;left: 50%;z-index: 0;}#sk-container-id-4 div.sk-serial {display: flex;flex-direction: column;align-items: center;background-color: white;padding-right: 0.2em;padding-left: 0.2em;position: relative;}#sk-container-id-4 div.sk-item {position: relative;z-index: 1;}#sk-container-id-4 div.sk-parallel {display: flex;align-items: stretch;justify-content: center;background-color: white;position: relative;}#sk-container-id-4 div.sk-item::before, #sk-container-id-4 div.sk-parallel-item::before {content: \"\";position: absolute;border-left: 1px solid gray;box-sizing: border-box;top: 0;bottom: 0;left: 50%;z-index: -1;}#sk-container-id-4 div.sk-parallel-item {display: flex;flex-direction: column;z-index: 1;position: relative;background-color: white;}#sk-container-id-4 div.sk-parallel-item:first-child::after {align-self: flex-end;width: 50%;}#sk-container-id-4 div.sk-parallel-item:last-child::after {align-self: flex-start;width: 50%;}#sk-container-id-4 div.sk-parallel-item:only-child::after {width: 0;}#sk-container-id-4 div.sk-dashed-wrapped {border: 1px dashed gray;margin: 0 0.4em 0.5em 0.4em;box-sizing: border-box;padding-bottom: 0.4em;background-color: white;}#sk-container-id-4 div.sk-label label {font-family: monospace;font-weight: bold;display: inline-block;line-height: 1.2em;}#sk-container-id-4 div.sk-label-container {text-align: center;}#sk-container-id-4 div.sk-container {/* jupyter's `normalize.less` sets `[hidden] { display: none; }` but bootstrap.min.css set `[hidden] { display: none !important; }` so we also need the `!important` here to be able to override the default hidden behavior on the sphinx rendered scikit-learn.org. See: https://github.com/scikit-learn/scikit-learn/issues/21755 */display: inline-block !important;position: relative;}#sk-container-id-4 div.sk-text-repr-fallback {display: none;}</style><div id=\"sk-container-id-4\" class=\"sk-top-container\"><div class=\"sk-text-repr-fallback\"><pre>RandomForestRegressor(random_state=42)</pre><b>In a Jupyter environment, please rerun this cell to show the HTML representation or trust the notebook. <br />On GitHub, the HTML representation is unable to render, please try loading this page with nbviewer.org.</b></div><div class=\"sk-container\" hidden><div class=\"sk-item\"><div class=\"sk-estimator sk-toggleable\"><input class=\"sk-toggleable__control sk-hidden--visually\" id=\"sk-estimator-id-4\" type=\"checkbox\" checked><label for=\"sk-estimator-id-4\" class=\"sk-toggleable__label sk-toggleable__label-arrow\">RandomForestRegressor</label><div class=\"sk-toggleable__content\"><pre>RandomForestRegressor(random_state=42)</pre></div></div></div></div></div>"
      ],
      "text/plain": [
       "RandomForestRegressor(random_state=42)"
      ]
     },
     "execution_count": 134,
     "metadata": {},
     "output_type": "execute_result"
    }
   ],
   "source": [
    "# train random forest model\n",
    "model = RandomForestRegressor(n_estimators=100, random_state=42)\n",
    "model.fit(X_train, y_train)"
   ]
  },
  {
   "cell_type": "code",
   "execution_count": 135,
   "metadata": {},
   "outputs": [],
   "source": [
    "# Make predictions on the test set\n",
    "y_pred = model.predict(X_test)"
   ]
  },
  {
   "cell_type": "code",
   "execution_count": 136,
   "metadata": {},
   "outputs": [
    {
     "name": "stdout",
     "output_type": "stream",
     "text": [
      "Mean Squared Error (MSE): 3623555.130631859\n",
      "R^2 Score: 0.9412415533256271\n"
     ]
    }
   ],
   "source": [
    "# Calculate evaluation metrics\n",
    "mse = mean_squared_error(y_test, y_pred)\n",
    "r2 = r2_score(y_test, y_pred)\n",
    "\n",
    "print(f\"Mean Squared Error (MSE): {mse}\")\n",
    "print(f\"R^2 Score: {r2}\")"
   ]
  },
  {
   "cell_type": "code",
   "execution_count": 138,
   "metadata": {},
   "outputs": [],
   "source": [
    "def predict_ticket_price(artist_name, venue_name):\n",
    "    if artist_name not in encoders['artist'].classes_:\n",
    "        print(f\"Artist '{artist_name}' not found in training data.\")\n",
    "        return\n",
    "    \n",
    "    if venue_name not in encoders['venue'].classes_:\n",
    "        print(f\"Venue '{venue_name}' not found in training data.\")\n",
    "        return\n",
    "\n",
    "    artist_encoded = encoders['artist'].transform([artist_name])[0]\n",
    "    venue_encoded = encoders['venue'].transform([venue_name])[0]\n",
    "\n",
    "    input_sample = X_train.iloc[0].copy()\n",
    "    input_sample['artist'] = artist_encoded\n",
    "    input_sample['venue'] = venue_encoded\n",
    "\n",
    "    for col in ['year', 'month', 'day', 'day_of_week', 'days_since_epoch']:\n",
    "        if col in input_sample:\n",
    "            input_sample[col] = X_train[col].mean()\n",
    "\n",
    "    input_sample = input_sample.values.reshape(1, -1)\n",
    "\n",
    "    predicted_price = model.predict(input_sample)\n",
    "    print(f\"Predicted ticket price: ${predicted_price[0]:.2f}\")"
   ]
  },
  {
   "cell_type": "code",
   "execution_count": 139,
   "metadata": {},
   "outputs": [
    {
     "name": "stdout",
     "output_type": "stream",
     "text": [
      "Predicted ticket price: $412.69\n"
     ]
    },
    {
     "name": "stderr",
     "output_type": "stream",
     "text": [
      "/Users/kausikamanivannan/anaconda3/lib/python3.11/site-packages/sklearn/base.py:464: UserWarning: X does not have valid feature names, but RandomForestRegressor was fitted with feature names\n",
      "  warnings.warn(\n"
     ]
    }
   ],
   "source": [
    # "example_artist = \"Justin Bieber\"  # Replace with actual artist name\n",
    # "example_venue = \"Terminal West\"    # Replace with actual venue name\n",
    # "predict_ticket_price(example_artist, example_venue)"
   ]
  }
 ],
 "metadata": {
  "kernelspec": {
   "display_name": "base",
   "language": "python",
   "name": "python3"
  },
  "language_info": {
   "codemirror_mode": {
    "name": "ipython",
    "version": 3
   },
   "file_extension": ".py",
   "mimetype": "text/x-python",
   "name": "python",
   "nbconvert_exporter": "python",
   "pygments_lexer": "ipython3",
   "version": "3.11.4"
  }
 },
 "nbformat": 4,
 "nbformat_minor": 2
}
